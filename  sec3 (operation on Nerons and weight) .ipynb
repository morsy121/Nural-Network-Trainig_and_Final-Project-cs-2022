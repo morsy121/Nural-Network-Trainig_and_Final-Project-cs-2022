{
 "cells": [
  {
   "cell_type": "code",
   "execution_count": 2,
   "id": "ba45ee1f",
   "metadata": {},
   "outputs": [],
   "source": [
    "inputs = [1,2,3,2.5]\n",
    "weights = [0.2 , 0.8 , -0.5 , 1.0]\n",
    "bias = 2.0"
   ]
  },
  {
   "cell_type": "code",
   "execution_count": 3,
   "id": "69fb617e",
   "metadata": {},
   "outputs": [],
   "source": [
    "outputs = (inputs[0] * weights[0] + inputs[1] * weights[1] + inputs[2] * weights[2] + inputs[3] * weights[3] + bias)"
   ]
  },
  {
   "cell_type": "code",
   "execution_count": 4,
   "id": "27d56509",
   "metadata": {},
   "outputs": [
    {
     "data": {
      "text/plain": [
       "4.8"
      ]
     },
     "execution_count": 4,
     "metadata": {},
     "output_type": "execute_result"
    }
   ],
   "source": [
    "outputs"
   ]
  },
  {
   "cell_type": "code",
   "execution_count": 5,
   "id": "2cd28cac",
   "metadata": {},
   "outputs": [],
   "source": [
    "inputs = [1,2,3,2.5]\n",
    "weights = [\n",
    "    [0.2 , 0.8 , -0.5 , 1.0],\n",
    "    [0.5,2.2,4.5,10.1],\n",
    "    [0.2,4.5,6.7,8.4]]\n",
    "bais = [2, 23.0, 5.4]"
   ]
  },
  {
   "cell_type": "code",
   "execution_count": 6,
   "id": "e217805c",
   "metadata": {},
   "outputs": [],
   "source": [
    "layer_output = []"
   ]
  },
  {
   "cell_type": "code",
   "execution_count": 10,
   "id": "f4fd4439",
   "metadata": {},
   "outputs": [
    {
     "name": "stdout",
     "output_type": "stream",
     "text": [
      "[4.8, 66.65, 55.699999999999996]\n"
     ]
    }
   ],
   "source": [
    "for nerous_weights , nerons_bais in zip(weights ,bais ):\n",
    "    #print(nerous_weights,nerons_bais)\n",
    "    nerous_output = 0 \n",
    "    for n_inputs,weights in zip(inputs ,nerous_weights ):\n",
    "        nerous_output+= n_inputs * weights\n",
    "    nerous_output+=nerons_bais\n",
    "    layer_output.append(nerous_output)\n",
    "print(layer_output)"
   ]
  },
  {
   "cell_type": "code",
   "execution_count": 12,
   "id": "34947b6b",
   "metadata": {},
   "outputs": [],
   "source": [
    "import numpy as np\n",
    "inputs = [1,2,3,2.5]\n",
    "weights = [0.2 , 0.8 , -0.5 , 1.0]\n",
    "bias = 2.0"
   ]
  },
  {
   "cell_type": "code",
   "execution_count": 13,
   "id": "53682bbb",
   "metadata": {},
   "outputs": [],
   "source": [
    "outputs = np.dot(weights , inputs) + bais"
   ]
  },
  {
   "cell_type": "code",
   "execution_count": 15,
   "id": "72e1dc51",
   "metadata": {},
   "outputs": [
    {
     "name": "stdout",
     "output_type": "stream",
     "text": [
      "[ 4.8 25.8  8.2]\n"
     ]
    }
   ],
   "source": [
    "print(outputs)"
   ]
  },
  {
   "cell_type": "code",
   "execution_count": 19,
   "id": "c20ea8e2",
   "metadata": {},
   "outputs": [],
   "source": [
    "inputss = [1,2,3,2.5]\n",
    "weightss = [\n",
    "    [0.2 , 0.8 , -0.5 , 1.0],\n",
    "    [0.5,2.2,4.5,10.1],\n",
    "    [0.2,4.5,6.7,8.4]]\n",
    "baiss = [2, 23.0, 5.4]"
   ]
  },
  {
   "cell_type": "code",
   "execution_count": 20,
   "id": "2e65c405",
   "metadata": {},
   "outputs": [],
   "source": [
    "layer_output = np.dot(weightss , inputss) + baiss"
   ]
  },
  {
   "cell_type": "code",
   "execution_count": 21,
   "id": "1f86473a",
   "metadata": {},
   "outputs": [
    {
     "name": "stdout",
     "output_type": "stream",
     "text": [
      "[ 4.8  66.65 55.7 ]\n"
     ]
    }
   ],
   "source": [
    "print(layer_output)"
   ]
  },
  {
   "cell_type": "code",
   "execution_count": 28,
   "id": "7be40a10",
   "metadata": {},
   "outputs": [],
   "source": []
  },
  {
   "cell_type": "code",
   "execution_count": null,
   "id": "b3319bc0",
   "metadata": {},
   "outputs": [],
   "source": []
  },
  {
   "cell_type": "code",
   "execution_count": null,
   "id": "c796433d",
   "metadata": {},
   "outputs": [],
   "source": []
  },
  {
   "cell_type": "code",
   "execution_count": null,
   "id": "34443e2e",
   "metadata": {},
   "outputs": [],
   "source": []
  },
  {
   "cell_type": "code",
   "execution_count": 45,
   "id": "6dac019f",
   "metadata": {},
   "outputs": [
    {
     "name": "stdout",
     "output_type": "stream",
     "text": [
      "[1, 2, 3, 4, 5, 6, 7]\n"
     ]
    }
   ],
   "source": [
    "listA = [1,2,3,4,5,6,7]\n",
    "listB = [1,2,3,4]\n",
    "\n",
    "listB.extend(listA[4:])\n",
    "print(listB)"
   ]
  },
  {
   "cell_type": "code",
   "execution_count": null,
   "id": "4b89763a",
   "metadata": {},
   "outputs": [],
   "source": []
  },
  {
   "cell_type": "code",
   "execution_count": null,
   "id": "47286bb6",
   "metadata": {},
   "outputs": [],
   "source": []
  }
 ],
 "metadata": {
  "kernelspec": {
   "display_name": "Python 3",
   "language": "python",
   "name": "python3"
  },
  "language_info": {
   "codemirror_mode": {
    "name": "ipython",
    "version": 3
   },
   "file_extension": ".py",
   "mimetype": "text/x-python",
   "name": "python",
   "nbconvert_exporter": "python",
   "pygments_lexer": "ipython3",
   "version": "3.8.8"
  }
 },
 "nbformat": 4,
 "nbformat_minor": 5
}
