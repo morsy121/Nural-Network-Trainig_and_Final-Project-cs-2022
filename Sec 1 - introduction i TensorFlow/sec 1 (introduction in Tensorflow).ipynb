{
 "cells": [
  {
   "cell_type": "code",
   "execution_count": 1,
   "id": "7e08cab0",
   "metadata": {},
   "outputs": [],
   "source": [
    "import tensorflow as tf"
   ]
  },
  {
   "cell_type": "code",
   "execution_count": 2,
   "id": "e1723443",
   "metadata": {},
   "outputs": [
    {
     "name": "stdout",
     "output_type": "stream",
     "text": [
      "2.8.0\n"
     ]
    }
   ],
   "source": [
    "print(tf.__version__)"
   ]
  },
  {
   "cell_type": "code",
   "execution_count": 3,
   "id": "1fb84bd4",
   "metadata": {},
   "outputs": [
    {
     "name": "stdout",
     "output_type": "stream",
     "text": [
      "0\n"
     ]
    }
   ],
   "source": [
    "scaler = tf.constant(8)\n",
    "print(scaler.ndim)"
   ]
  },
  {
   "cell_type": "code",
   "execution_count": 7,
   "id": "fbd93e9d",
   "metadata": {},
   "outputs": [
    {
     "name": "stdout",
     "output_type": "stream",
     "text": [
      "tf.Tensor([10.  2.  0. 40.], shape=(4,), dtype=float32)\n",
      "1\n"
     ]
    }
   ],
   "source": [
    "vector = tf.constant([10,2,0,40] , dtype=tf.float32)\n",
    "print(vector)\n",
    "print(vector.ndim)"
   ]
  },
  {
   "cell_type": "code",
   "execution_count": 10,
   "id": "506afc51",
   "metadata": {},
   "outputs": [
    {
     "name": "stdout",
     "output_type": "stream",
     "text": [
      "tf.Tensor(\n",
      "[[10. 20. 30.]\n",
      " [10. 20. 60.]], shape=(2, 3), dtype=float32)\n",
      "2\n"
     ]
    }
   ],
   "source": [
    "matrix = tf.constant([[10,20,30] , [10,20,60]] , dtype = tf.float32)\n",
    "print(matrix)\n",
    "print(matrix.ndim)"
   ]
  },
  {
   "cell_type": "code",
   "execution_count": null,
   "id": "95e4dab4",
   "metadata": {},
   "outputs": [],
   "source": []
  }
 ],
 "metadata": {
  "kernelspec": {
   "display_name": "Python 3",
   "language": "python",
   "name": "python3"
  },
  "language_info": {
   "codemirror_mode": {
    "name": "ipython",
    "version": 3
   },
   "file_extension": ".py",
   "mimetype": "text/x-python",
   "name": "python",
   "nbconvert_exporter": "python",
   "pygments_lexer": "ipython3",
   "version": "3.8.8"
  }
 },
 "nbformat": 4,
 "nbformat_minor": 5
}
